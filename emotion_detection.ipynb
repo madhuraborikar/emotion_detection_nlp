{
  "nbformat": 4,
  "nbformat_minor": 0,
  "metadata": {
    "colab": {
      "provenance": [],
      "toc_visible": true,
      "authorship_tag": "ABX9TyO2lSspiICLsH9fyPaDc2Yj",
      "include_colab_link": true
    },
    "kernelspec": {
      "name": "python3",
      "display_name": "Python 3"
    },
    "language_info": {
      "name": "python"
    }
  },
  "cells": [
    {
      "cell_type": "markdown",
      "metadata": {
        "id": "view-in-github",
        "colab_type": "text"
      },
      "source": [
        "<a href=\"https://colab.research.google.com/github/madhuraborikar/emotion_detection_nlp/blob/main/emotion_detection.ipynb\" target=\"_parent\"><img src=\"https://colab.research.google.com/assets/colab-badge.svg\" alt=\"Open In Colab\"/></a>"
      ]
    },
    {
      "cell_type": "markdown",
      "source": [],
      "metadata": {
        "id": "NnYrl6tzNgb6"
      }
    },
    {
      "cell_type": "code",
      "source": [
        "# Importing necessary libraries\n",
        "import pandas as pd\n",
        "from sklearn.model_selection import train_test_split\n",
        "from sklearn.feature_extraction.text import TfidfVectorizer\n",
        "from sklearn.linear_model import LogisticRegression\n",
        "import pickle\n",
        "\n",
        "# Creating the dataset\n",
        "data = {\n",
        "    'text': [\n",
        "        'I am so happy today!',\n",
        "        'This is the worst day ever.',\n",
        "        'I\\'m feeling very sad right now.',\n",
        "        'That’s hilarious! I can’t stop laughing.',\n",
        "        'I’m afraid to go out alone.',\n",
        "        'I am really frustrated with this.',\n",
        "        'I miss you so much.',\n",
        "        'That movie was terrifying.',\n",
        "        'It feels so peaceful here.',\n",
        "        'I\\'m worried about tomorrow.',\n",
        "        'Nothing ever works out for me.',\n",
        "        'Why are you yelling at me?',\n",
        "        'This makes me smile.',\n",
        "        'I can\\'t take this anymore.',\n",
        "        'You make me feel safe.'\n",
        "    ],\n",
        "    'emotion': [\n",
        "        'joy', 'anger', 'sadness', 'joy', 'fear',\n",
        "        'anger', 'sadness', 'fear', 'joy', 'fear',\n",
        "        'sadness', 'anger', 'joy', 'anger', 'joy'\n",
        "    ]\n",
        "}\n",
        "\n",
        "df = pd.DataFrame(data)\n",
        "df.to_csv('emotions.csv', index=False)\n",
        "\n",
        "# Splitting and vectorizing\n",
        "X_train, X_test, y_train, y_test = train_test_split(df['text'], df['emotion'], test_size=0.2, random_state=42)\n",
        "vectorizer = TfidfVectorizer()\n",
        "X_train_vect = vectorizer.fit_transform(X_train)\n",
        "X_test_vect = vectorizer.transform(X_test)\n",
        "\n",
        "# Model training\n",
        "model = LogisticRegression()\n",
        "model.fit(X_train_vect, y_train)\n",
        "accuracy = model.score(X_test_vect, y_test)\n",
        "\n",
        "# Saving model\n",
        "with open(\"emotion_detection_model.pkl\", \"wb\") as f:\n",
        "    pickle.dump((model, vectorizer), f)\n",
        "\n",
        "# Show output\n",
        "print(\"✅ Model trained and saved successfully with accuracy:\", accuracy)\n"
      ],
      "metadata": {
        "colab": {
          "base_uri": "https://localhost:8080/"
        },
        "id": "YxAjAAnoNxoS",
        "outputId": "ccf3d734-6de9-4557-b1dc-5244dfc6b7b6"
      },
      "execution_count": 3,
      "outputs": [
        {
          "output_type": "stream",
          "name": "stdout",
          "text": [
            "✅ Model trained and saved successfully with accuracy: 0.3333333333333333\n"
          ]
        }
      ]
    },
    {
      "cell_type": "code",
      "source": [
        "# Importing necessary libraries\n",
        "import pandas as pd\n",
        "from sklearn.model_selection import train_test_split\n",
        "from sklearn.feature_extraction.text import TfidfVectorizer\n",
        "from sklearn.linear_model import LogisticRegression\n",
        "import pickle\n",
        "\n",
        "# Creating the dataset\n",
        "data = {\n",
        "    'text': [\n",
        "        'I am so happy today!',\n",
        "        'This is the worst day ever.',\n",
        "        'I\\'m feeling very sad right now.',\n",
        "        'That’s hilarious! I can’t stop laughing.',\n",
        "        'I’m afraid to go out alone.',\n",
        "        'I am really frustrated with this.',\n",
        "        'I miss you so much.',\n",
        "        'That movie was terrifying.',\n",
        "        'It feels so peaceful here.',\n",
        "        'I\\'m worried about tomorrow.',\n",
        "        'Nothing ever works out for me.',\n",
        "        'Why are you yelling at me?',\n",
        "        'This makes me smile.',\n",
        "        'I can\\'t take this anymore.',\n",
        "        'You make me feel safe.'\n",
        "    ],\n",
        "    'emotion': [\n",
        "        'joy', 'anger', 'sadness', 'joy', 'fear',\n",
        "        'anger', 'sadness', 'fear', 'joy', 'fear',\n",
        "        'sadness', 'anger', 'joy', 'anger', 'joy'\n",
        "    ]\n",
        "}\n",
        "\n",
        "df = pd.DataFrame(data)\n",
        "df.to_csv('emotions.csv', index=False)\n",
        "\n",
        "# Splitting and vectorizing\n",
        "X_train, X_test, y_train, y_test = train_test_split(df['text'], df['emotion'], test_size=0.2, random_state=42)\n",
        "vectorizer = TfidfVectorizer()\n",
        "X_train_vect = vectorizer.fit_transform(X_train)\n",
        "X_test_vect = vectorizer.transform(X_test)\n",
        "\n",
        "# Model training\n",
        "model = LogisticRegression()\n",
        "model.fit(X_train_vect, y_train)\n",
        "accuracy = model.score(X_test_vect, y_test)\n",
        "\n",
        "# Saving model\n",
        "with open(\"emotion_detection_model.pkl\", \"wb\") as f:\n",
        "    pickle.dump((model, vectorizer), f)\n",
        "\n",
        "# Show output\n",
        "print(\"✅ Model trained and saved successfully with accuracy:\", accuracy)\n"
      ],
      "metadata": {
        "id": "dC952ELaSid6"
      },
      "execution_count": null,
      "outputs": []
    }
  ]
}